{
 "cells": [
  {
   "cell_type": "code",
   "execution_count": 1,
   "metadata": {},
   "outputs": [],
   "source": [
    "import random\n",
    "import numpy as np\n",
    "from api.models import StudentSubmission, Student, Course, CourseWork, Teacher\n",
    "from asgiref.sync import sync_to_async\n",
    "import os\n",
    "os.environ.setdefault('DJANGO_SETTINGS_MODULE', 'rest.settings')\n",
    "os.environ[\"DJANGO_ALLOW_ASYNC_UNSAFE\"] = \"true\""
   ]
  },
  {
   "cell_type": "code",
   "execution_count": 2,
   "metadata": {},
   "outputs": [],
   "source": [
    "schools = ['Eastern Alamance High School','Orange High School','Rockingham County High']\n",
    "grades = [9,10,11,12]\n",
    "student_names = ['JOEY SANCHEZ','JAY GARCIA','JEFF LAMORT','TOM GANDY','BARBARA GUTSTADT','NATE DILGER','ELEANOR COLEMAN','RANDY FOLK','MARTIN BURKE','JEREMY MANGINE','RAYMOND SCRUGGS','MIKE RUSSELL','MALIA SAMSON','JOANNE KOOL','GAIL WEISS','TAD HOLLEY','CORLETTE FAULK','TIM COXON','JEFF CLARK','MICHELE STEPANEK','GREG WOOD','JILLES VAN OORT','DEREK BAER','CHRIS MOFFAT','MICHAEL LENIHAN','JEFF KAMP','JOHN BACHYNSKI','KIMBERLY MOORE','ALEX BROWN','RYAN HENDERSON','HAO LIU','EVA CHAFFIN','ASTRID KOHLWES','AMY MCGOWEN','JOE WOLSTENCROFT PHD','MELISSA WHITE','MARTIN PALUCH','CHRIS TAYLOR','JEAN-SEBASTIEN LEGARE','TCC LAST','ANTOINE MONSTIER','GARY LORFANO','MAT SHERWOOD','TIMOTHY RYKACZEWSKI','JORGE ARTETA','JENNA CRAVEN','YOLANDA JAKUBOWSKI','BOB BRANCATO','JANE GANNON','CRAIG HUNTER','TS BREYER','JOHN GARDNER','LISA DEPAULO','DAVID BROCK','DEAN LONDO','SEAN BUSCA','PETER MURPHY','MARIETJIE DU PLESSIS','DANIEL ROONEY','JASON DICK','TA LAST','RYAN PRITCHARD','ERIC SUKHENKO','STEPHANIE CHIQUILLO','ROBERT DEVITZ','TKC AIMES','JEAN FRANCOIS MARINIER','CHRIS HAGARTY','LYNN BLAKE','MIKE SMITH','PATRICIA CAMERON','NICHOLAS ELLISON','MN GRAND','CAROL DISLER','RITA REASONS','HUAN NGUYEN','TATSURO OSHIMOTO','BARRY COLFLESH','CINDY CHACE','JOE FALARDEAU','MARCUS YADO','JEFF BABINEAU','JIM WHELAN','JIM TONORE','ABBY CHEN','MANWAH HO','RICK KELLY','SYLVAIN RABY','JEREMY CHEN','DEBRA COTELA','PR LAST','RICHARD MAYCHRICH','ANNA BROWE','JACLYN BEAUDREAU - CUMMINGS','DUSTIN RALSTON','CATHY CURTIS-WHITE','DICK SHURTS','JOHN REHUS','BEN JAMES','ANDREW SZUNYOG','DANIEL DIAS','PETER SMITH','RICK BURR','GREGORY RICHARDSON','MAXIME POUCHET','MICHAEL ABRAHAM','CHARLES ZHANG','ANDREW TOBEY','PAIGE PEREZ','JESSICA MIREAULT','VAL PATARINI','HEBE CONG','FUYUKA TSURUDA','JAMES HARRIS','JOHN C. HAMMER','PETER SMITH']\n",
    "teacher_names = ['Yuanjiao Shen','Jiansong Zheng','Xander Heijman','Mike Reidy','Amanda Green','Joshua Gaus','David Clyde','YAYONG HUANG','Gregor Bleimann','LING WAN','Ellard Teeple','A J Kerstiens','Eugene Teh','Ran Klier','Terry Ho','Kim Jacobsen','Moshe Mirilashvili','Duane Paulson','Clifford Russell','Michael Jen','Vinayak Tanksale','Kimberly Andrus','YEONGJUN SON','Ofer Elyakim','Jerry Dunn','Devin Corrigan','Fred Lynn','Bridget Clark','Robby Lopez']\n",
    "course_names = ['American literature','British literature','Contemporary literature','Creative writing','Communication skills','Debate','English language and composition','English literature and composition','Family studies','Fashion and retail merchandising','Fashion construction','Home economics','Interior design','Nutrition','Algebra 1','Algebra 2','Calculus','Computer math','Consumer math','Fundamentals of math','Geometry','Integrated math','Math applications','Multivariable calculus','Practical math','Pre-algebra','Pre-calculus','Probability','Quantitative literacy','Statistics','Trigonometry','Choir','Concert band','Dance','Drama','Guitar','Jazz band','Agriculture','Astronomy','Biology','Botany','Chemistry','Earth science','Electronics','Environmental science','Environmental studies','Forensic science','Geology','Marine biology','Oceanography','Physical science','Physics','Zoology','Cultural anthropology','Current events','European history','Geography','Global studies','Human geography','International relations','Law','Macroeconomics','Microeconomics','Modern world studies','Physical anthropology','Political studies','Psychology','Religious studies','Sociology','US government','US history','World history','World politics','World religions','Auto body repair','Auto mechanics','Building construction','Computer-aided drafting','Cosmetology','Criminal justice','Driver education','Electronics','FFA (Future Farmers of America)','Fire science','Heating and cooling systems','Hospitality and tourism','Metalworking','Networking','Plumbing','Production technology','Refrigeration fundamentals','Robotics','Woodworking','AP English Language and Composition','AP English Literature and Composition','AP Chinese Language and Culture','AP French Language and Culture','AP German Language and Culture','AP Italian Language and Culture','AP Japanese Language and Culture','AP Latin','AP Spanish Language and Culture','AP Spanish Literature and Culture','AP Comparative government and politics','AP European history','AP Human Geography','AP Macroeconomics','AP Microeconomics','AP Psychology','AP United States Government and Politics','AP United States History','AP World History','Math & Computer Science','AP Calculus AB','AP Calculus BC','AP Computer Science A','AP Computer Science Principles','AP Statistics']\n",
    "coursework_names = sorted(course_names * 4)\n",
    "due_dates = ['2021-09-12','2021-10-14','2021-11-16','2021-12-18']"
   ]
  },
  {
   "cell_type": "code",
   "execution_count": 3,
   "metadata": {},
   "outputs": [],
   "source": [
    "count = 1\n",
    "students = []\n",
    "for i in student_names:\n",
    "    school = schools[random.randint(0,len(schools)-1)]\n",
    "    grade = grades[random.randint(0,len(grades)-1)]\n",
    "    temp = Student(student_id=count, school=school, grade_level=grade, name =i)\n",
    "    await sync_to_async(temp.save)()\n",
    "    count += 1"
   ]
  },
  {
   "cell_type": "code",
   "execution_count": 4,
   "metadata": {},
   "outputs": [],
   "source": [
    "count = 1\n",
    "teachers = []\n",
    "for i in teacher_names:\n",
    "    school = schools[random.randint(0,len(schools)-1)]\n",
    "    temp = Teacher(teacher_id=count, school=school, name = i)\n",
    "    await sync_to_async(temp.save)()\n",
    "    count += 1"
   ]
  },
  {
   "cell_type": "code",
   "execution_count": 5,
   "metadata": {},
   "outputs": [],
   "source": [
    "count = 1\n",
    "courses = []\n",
    "for i in course_names:\n",
    "    teacher_id = random.randint(1,29)\n",
    "    temp = Course(course_id=count, teacher_id= Teacher.objects.get(teacher_id = teacher_id), name =i)\n",
    "    await sync_to_async(temp.save)()\n",
    "    count += 1"
   ]
  },
  {
   "cell_type": "code",
   "execution_count": 6,
   "metadata": {},
   "outputs": [],
   "source": [
    "count = 1\n",
    "sub_count = 1\n",
    "assignments = []\n",
    "titles = []\n",
    "for i in coursework_names:\n",
    "    due_date = due_dates[sub_count-1]\n",
    "    title = i + ' Assignment {0}'.format(sub_count)\n",
    "    titles.append(title)\n",
    "    course_id = np.where(np.array(course_names) == i)[0][0] + 1\n",
    "    temp = CourseWork(course_work_id=count, course_id= Course.objects.get(course_id = course_id), title=title, due_date =due_date)\n",
    "    await sync_to_async(temp.save)()\n",
    "    count += 1\n",
    "    sub_count +=1\n",
    "    if sub_count > 4:\n",
    "        sub_count = 1"
   ]
  },
  {
   "cell_type": "code",
   "execution_count": 7,
   "metadata": {},
   "outputs": [],
   "source": [
    "submissions = sorted(titles * 10)"
   ]
  },
  {
   "cell_type": "code",
   "execution_count": 8,
   "metadata": {},
   "outputs": [],
   "source": [
    "count = 1\n",
    "sub_count = 0\n",
    "student_subs = []\n",
    "roster = random.sample(range(1,len(student_names)-1),10)\n",
    "for i in submissions:\n",
    "    course_work_id = np.where(np.array(titles) == i)[0][0] + 1\n",
    "    course_id = np.where(np.array(course_names) == i.split(' Assignment')[0])[0][0] + 1\n",
    "    student_id = roster[sub_count]\n",
    "    status = random.randint(1,2)\n",
    "    assigned_points = float(random.randint(50,100))\n",
    "    max_points = 100.0\n",
    "    temp = StudentSubmission(submission_id=count,course_work_id=CourseWork.objects.get(course_work_id = course_work_id), course_id=Course.objects.get(course_id = course_id), student_id= Student.objects.get(student_id = student_id), status = status, assigned_points = assigned_points, max_points = max_points)\n",
    "    await sync_to_async(temp.save)()\n",
    "    count += 1\n",
    "    sub_count +=1\n",
    "    if sub_count > 9:\n",
    "        sub_count = 0\n",
    "        roster = random.sample(range(1,len(student_names)-1),10)"
   ]
  },
  {
   "cell_type": "code",
   "execution_count": null,
   "metadata": {},
   "outputs": [],
   "source": []
  }
 ],
 "metadata": {
  "kernelspec": {
   "display_name": "Django Shell-Plus",
   "language": "python",
   "name": "django_extensions"
  },
  "language_info": {
   "codemirror_mode": {
    "name": "ipython",
    "version": 3
   },
   "file_extension": ".py",
   "mimetype": "text/x-python",
   "name": "python",
   "nbconvert_exporter": "python",
   "pygments_lexer": "ipython3",
   "version": "3.8.3"
  }
 },
 "nbformat": 4,
 "nbformat_minor": 4
}
