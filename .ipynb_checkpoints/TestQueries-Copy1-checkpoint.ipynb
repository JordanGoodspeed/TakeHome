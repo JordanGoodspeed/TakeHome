{
 "cells": [
  {
   "cell_type": "code",
   "execution_count": 1,
   "metadata": {},
   "outputs": [],
   "source": [
    "from tastypie.resources import ModelResource\n",
    "from api.models import StudentSubmission, Student, Course, CourseWork, Teacher\n",
    "from asgiref.sync import sync_to_async\n",
    "import os\n",
    "os.environ.setdefault('DJANGO_SETTINGS_MODULE', 'rest.settings')\n",
    "os.environ[\"DJANGO_ALLOW_ASYNC_UNSAFE\"] = \"true\"\n",
    "#from django.db.models import Count\n",
    "from collections import Counter"
   ]
  },
  {
   "cell_type": "code",
   "execution_count": 2,
   "metadata": {},
   "outputs": [
    {
     "data": {
      "text/plain": [
       "'New'"
      ]
     },
     "execution_count": 2,
     "metadata": {},
     "output_type": "execute_result"
    }
   ],
   "source": [
    "StudentSubmission.objects.all()[0].get_status_type_label()"
   ]
  },
  {
   "cell_type": "code",
   "execution_count": 3,
   "metadata": {},
   "outputs": [
    {
     "data": {
      "text/plain": [
       "<QuerySet [{'status': 1, 'dcount': 2360}, {'status': 2, 'dcount': 2360}]>"
      ]
     },
     "execution_count": 3,
     "metadata": {},
     "output_type": "execute_result"
    }
   ],
   "source": [
    "StudentSubmission.objects.values('status').annotate(dcount=Count('status'))"
   ]
  },
  {
   "cell_type": "code",
   "execution_count": 4,
   "metadata": {},
   "outputs": [
    {
     "data": {
      "text/plain": [
       "<QuerySet [{'student_id': 1, 'assignmentsComplete': 22}, {'student_id': 2, 'assignmentsComplete': 17}, {'student_id': 3, 'assignmentsComplete': 18}, {'student_id': 4, 'assignmentsComplete': 34}, {'student_id': 5, 'assignmentsComplete': 19}, {'student_id': 6, 'assignmentsComplete': 23}, {'student_id': 7, 'assignmentsComplete': 25}, {'student_id': 8, 'assignmentsComplete': 17}, {'student_id': 9, 'assignmentsComplete': 20}, {'student_id': 10, 'assignmentsComplete': 21}, {'student_id': 11, 'assignmentsComplete': 19}, {'student_id': 12, 'assignmentsComplete': 18}, {'student_id': 13, 'assignmentsComplete': 23}, {'student_id': 14, 'assignmentsComplete': 11}, {'student_id': 15, 'assignmentsComplete': 32}, {'student_id': 16, 'assignmentsComplete': 27}, {'student_id': 17, 'assignmentsComplete': 19}, {'student_id': 18, 'assignmentsComplete': 22}, {'student_id': 19, 'assignmentsComplete': 21}, {'student_id': 20, 'assignmentsComplete': 17}, '...(remaining elements truncated)...']>"
      ]
     },
     "execution_count": 4,
     "metadata": {},
     "output_type": "execute_result"
    }
   ],
   "source": [
    "StudentSubmission.objects.filter(status=2).values('student_id').annotate(assignmentsComplete=Count('status'))"
   ]
  },
  {
   "cell_type": "code",
   "execution_count": 5,
   "metadata": {},
   "outputs": [
    {
     "data": {
      "text/plain": [
       "<QuerySet [{'course_id': 1, 'avgGrade': 79.26315789473684}, {'course_id': 2, 'avgGrade': 78.5}, {'course_id': 3, 'avgGrade': 79.0}, {'course_id': 4, 'avgGrade': 75.6086956521739}, {'course_id': 5, 'avgGrade': 76.0625}, {'course_id': 6, 'avgGrade': 75.15}, {'course_id': 7, 'avgGrade': 71.69565217391305}, {'course_id': 8, 'avgGrade': 73.75}, {'course_id': 9, 'avgGrade': 67.61904761904762}, {'course_id': 10, 'avgGrade': 76.78947368421052}, {'course_id': 11, 'avgGrade': 68.88235294117646}, {'course_id': 12, 'avgGrade': 76.8}, {'course_id': 13, 'avgGrade': 72.6470588235294}, {'course_id': 14, 'avgGrade': 76.86363636363636}, {'course_id': 15, 'avgGrade': 70.13636363636364}, {'course_id': 16, 'avgGrade': 80.03846153846153}, {'course_id': 17, 'avgGrade': 77.25}, {'course_id': 18, 'avgGrade': 76.26666666666667}, {'course_id': 19, 'avgGrade': 71.17391304347827}, {'course_id': 20, 'avgGrade': 77.0909090909091}, '...(remaining elements truncated)...']>"
      ]
     },
     "execution_count": 5,
     "metadata": {},
     "output_type": "execute_result"
    }
   ],
   "source": [
    "StudentSubmission.objects.filter(status=2).values('course_id').annotate(avgGrade=Avg('assigned_points'))"
   ]
  },
  {
   "cell_type": "code",
   "execution_count": 6,
   "metadata": {},
   "outputs": [
    {
     "data": {
      "text/plain": [
       "<QuerySet [{'course_id': 5}, {'course_id': 27}, {'course_id': 42}, {'course_id': 66}, {'course_id': 84}, {'course_id': 99}, {'course_id': 1}, {'course_id': 20}, {'course_id': 29}, {'course_id': 64}, {'course_id': 81}, {'course_id': 100}, {'course_id': 16}, {'course_id': 36}, {'course_id': 86}, {'course_id': 89}, {'course_id': 17}, {'course_id': 21}, {'course_id': 30}, {'course_id': 34}, '...(remaining elements truncated)...']>"
      ]
     },
     "execution_count": 6,
     "metadata": {},
     "output_type": "execute_result"
    }
   ],
   "source": [
    "Course.objects.values('course_id')"
   ]
  },
  {
   "cell_type": "code",
   "execution_count": 56,
   "metadata": {},
   "outputs": [
    {
     "data": {
      "text/plain": [
       "Counter({17: 28,\n",
       "         29: 12,\n",
       "         7: 36,\n",
       "         28: 12,\n",
       "         21: 16,\n",
       "         11: 20,\n",
       "         9: 32,\n",
       "         22: 36,\n",
       "         1: 24,\n",
       "         2: 24,\n",
       "         20: 8,\n",
       "         24: 24,\n",
       "         10: 8,\n",
       "         13: 8,\n",
       "         16: 8,\n",
       "         3: 16,\n",
       "         23: 16,\n",
       "         27: 16,\n",
       "         15: 24,\n",
       "         14: 12,\n",
       "         4: 32,\n",
       "         12: 16,\n",
       "         18: 8,\n",
       "         26: 8,\n",
       "         19: 8,\n",
       "         5: 8,\n",
       "         25: 4,\n",
       "         6: 4,\n",
       "         8: 4})"
      ]
     },
     "execution_count": 56,
     "metadata": {},
     "output_type": "execute_result"
    }
   ],
   "source": [
    "assignments = CourseWork.objects.all()\n",
    "assignments = [i.course_id.teacher_id.teacher_id for i in assignments]\n",
    "Counter(assignments)"
   ]
  },
  {
   "cell_type": "code",
   "execution_count": 13,
   "metadata": {},
   "outputs": [
    {
     "data": {
      "text/plain": [
       "<QuerySet [{'course_work_id': 109, 'course_id_id': 1, 'title': 'American literature Assignment 1', 'due_date': datetime.date(2021, 9, 12)}, {'course_work_id': 110, 'course_id_id': 1, 'title': 'American literature Assignment 2', 'due_date': datetime.date(2021, 10, 14)}, {'course_work_id': 111, 'course_id_id': 1, 'title': 'American literature Assignment 3', 'due_date': datetime.date(2021, 11, 16)}, {'course_work_id': 112, 'course_id_id': 1, 'title': 'American literature Assignment 4', 'due_date': datetime.date(2021, 12, 18)}]>"
      ]
     },
     "execution_count": 13,
     "metadata": {},
     "output_type": "execute_result"
    }
   ],
   "source": [
    "Course.objects.get(course_id=1).coursework_set.values()"
   ]
  },
  {
   "cell_type": "code",
   "execution_count": 14,
   "metadata": {},
   "outputs": [
    {
     "ename": "NameError",
     "evalue": "name 'course__teacher_id' is not defined",
     "output_type": "error",
     "traceback": [
      "\u001b[0;31m---------------------------------------------------------------------------\u001b[0m",
      "\u001b[0;31mNameError\u001b[0m                                 Traceback (most recent call last)",
      "\u001b[0;32m<ipython-input-14-3171cfcfdd59>\u001b[0m in \u001b[0;36m<module>\u001b[0;34m\u001b[0m\n\u001b[0;32m----> 1\u001b[0;31m \u001b[0mCourseWork\u001b[0m\u001b[0;34m.\u001b[0m\u001b[0mobjects\u001b[0m\u001b[0;34m.\u001b[0m\u001b[0mvalues\u001b[0m\u001b[0;34m(\u001b[0m\u001b[0mcourse__teacher_id\u001b[0m\u001b[0;34m)\u001b[0m\u001b[0;34m\u001b[0m\u001b[0;34m\u001b[0m\u001b[0m\n\u001b[0m",
      "\u001b[0;31mNameError\u001b[0m: name 'course__teacher_id' is not defined"
     ]
    }
   ],
   "source": [
    "CourseWork.objects.values(course__teacher_id)"
   ]
  },
  {
   "cell_type": "code",
   "execution_count": 21,
   "metadata": {},
   "outputs": [
    {
     "data": {
      "text/plain": [
       "<QuerySet [{'submission_id': 83, 'course_work_id_id': 9, 'course_id_id': 96, 'student_id_id': 1, 'status': 2, 'assigned_points': 71.0, 'max_points': 100.0}, {'submission_id': 97, 'course_work_id_id': 10, 'course_id_id': 96, 'student_id_id': 1, 'status': 1, 'assigned_points': 80.0, 'max_points': 100.0}, {'submission_id': 293, 'course_work_id_id': 30, 'course_id_id': 95, 'student_id_id': 1, 'status': 2, 'assigned_points': 70.0, 'max_points': 100.0}, {'submission_id': 308, 'course_work_id_id': 31, 'course_id_id': 95, 'student_id_id': 1, 'status': 2, 'assigned_points': 65.0, 'max_points': 100.0}, {'submission_id': 409, 'course_work_id_id': 41, 'course_id_id': 98, 'student_id_id': 1, 'status': 1, 'assigned_points': 78.0, 'max_points': 100.0}, {'submission_id': 470, 'course_work_id_id': 47, 'course_id_id': 106, 'student_id_id': 1, 'status': 2, 'assigned_points': 52.0, 'max_points': 100.0}, {'submission_id': 691, 'course_work_id_id': 70, 'course_id_id': 109, 'student_id_id': 1, 'status': 2, 'assigned_points': 80.0, 'max_points': 100.0}, {'submission_id': 827, 'course_work_id_id': 83, 'course_id_id': 118, 'student_id_id': 1, 'status': 1, 'assigned_points': 72.0, 'max_points': 100.0}, {'submission_id': 973, 'course_work_id_id': 98, 'course_id_id': 38, 'student_id_id': 1, 'status': 1, 'assigned_points': 58.0, 'max_points': 100.0}, {'submission_id': 1181, 'course_work_id_id': 119, 'course_id_id': 75, 'student_id_id': 1, 'status': 1, 'assigned_points': 70.0, 'max_points': 100.0}, {'submission_id': 1217, 'course_work_id_id': 122, 'course_id_id': 76, 'student_id_id': 1, 'status': 1, 'assigned_points': 55.0, 'max_points': 100.0}, {'submission_id': 1574, 'course_work_id_id': 158, 'course_id_id': 18, 'student_id_id': 1, 'status': 1, 'assigned_points': 84.0, 'max_points': 100.0}, {'submission_id': 1897, 'course_work_id_id': 190, 'course_id_id': 54, 'student_id_id': 1, 'status': 2, 'assigned_points': 89.0, 'max_points': 100.0}, {'submission_id': 1940, 'course_work_id_id': 194, 'course_id_id': 55, 'student_id_id': 1, 'status': 1, 'assigned_points': 89.0, 'max_points': 100.0}, {'submission_id': 2079, 'course_work_id_id': 208, 'course_id_id': 35, 'student_id_id': 1, 'status': 1, 'assigned_points': 54.0, 'max_points': 100.0}, {'submission_id': 2099, 'course_work_id_id': 210, 'course_id_id': 81, 'student_id_id': 1, 'status': 2, 'assigned_points': 68.0, 'max_points': 100.0}, {'submission_id': 2168, 'course_work_id_id': 217, 'course_id_id': 44, 'student_id_id': 1, 'status': 1, 'assigned_points': 80.0, 'max_points': 100.0}, {'submission_id': 2257, 'course_work_id_id': 226, 'course_id_id': 7, 'student_id_id': 1, 'status': 1, 'assigned_points': 89.0, 'max_points': 100.0}, {'submission_id': 2416, 'course_work_id_id': 242, 'course_id_id': 56, 'student_id_id': 1, 'status': 2, 'assigned_points': 78.0, 'max_points': 100.0}, {'submission_id': 2503, 'course_work_id_id': 251, 'course_id_id': 9, 'student_id_id': 1, 'status': 2, 'assigned_points': 76.0, 'max_points': 100.0}, '...(remaining elements truncated)...']>"
      ]
     },
     "execution_count": 21,
     "metadata": {},
     "output_type": "execute_result"
    }
   ],
   "source": [
    "Student.objects.get(student_id=1).studentsubmission_set.values()"
   ]
  },
  {
   "cell_type": "code",
   "execution_count": 19,
   "metadata": {},
   "outputs": [
    {
     "ename": "AttributeError",
     "evalue": "'Course' object has no attribute 'school_submission_set'",
     "output_type": "error",
     "traceback": [
      "\u001b[0;31m---------------------------------------------------------------------------\u001b[0m",
      "\u001b[0;31mAttributeError\u001b[0m                            Traceback (most recent call last)",
      "\u001b[0;32m<ipython-input-19-26bfe137d3a8>\u001b[0m in \u001b[0;36m<module>\u001b[0;34m\u001b[0m\n\u001b[0;32m----> 1\u001b[0;31m \u001b[0mCourse\u001b[0m\u001b[0;34m.\u001b[0m\u001b[0mobjects\u001b[0m\u001b[0;34m.\u001b[0m\u001b[0mget\u001b[0m\u001b[0;34m(\u001b[0m\u001b[0mcourse_id\u001b[0m\u001b[0;34m=\u001b[0m\u001b[0;36m1\u001b[0m\u001b[0;34m)\u001b[0m\u001b[0;34m.\u001b[0m\u001b[0mschool_submission_set\u001b[0m\u001b[0;34m.\u001b[0m\u001b[0mvalues\u001b[0m\u001b[0;34m(\u001b[0m\u001b[0;34m)\u001b[0m\u001b[0;34m\u001b[0m\u001b[0;34m\u001b[0m\u001b[0m\n\u001b[0m",
      "\u001b[0;31mAttributeError\u001b[0m: 'Course' object has no attribute 'school_submission_set'"
     ]
    }
   ],
   "source": [
    "Course.objects.get(course_id=1).school_submission_set.values()"
   ]
  },
  {
   "cell_type": "code",
   "execution_count": 23,
   "metadata": {},
   "outputs": [
    {
     "ename": "NameError",
     "evalue": "name 'assignmentsComplete' is not defined",
     "output_type": "error",
     "traceback": [
      "\u001b[0;31m---------------------------------------------------------------------------\u001b[0m",
      "\u001b[0;31mNameError\u001b[0m                                 Traceback (most recent call last)",
      "\u001b[0;32m<ipython-input-23-fd4e22db99ba>\u001b[0m in \u001b[0;36m<module>\u001b[0;34m\u001b[0m\n\u001b[0;32m----> 1\u001b[0;31m \u001b[0;32mfor\u001b[0m \u001b[0mi\u001b[0m \u001b[0;32min\u001b[0m \u001b[0mStudentSubmission\u001b[0m\u001b[0;34m.\u001b[0m\u001b[0mobjects\u001b[0m\u001b[0;34m.\u001b[0m\u001b[0mfilter\u001b[0m\u001b[0;34m(\u001b[0m\u001b[0mstatus\u001b[0m\u001b[0;34m=\u001b[0m\u001b[0;36m2\u001b[0m\u001b[0;34m)\u001b[0m\u001b[0;34m.\u001b[0m\u001b[0mvalues\u001b[0m\u001b[0;34m(\u001b[0m\u001b[0;34m'student_id'\u001b[0m\u001b[0;34m)\u001b[0m\u001b[0;34m.\u001b[0m\u001b[0mannotate\u001b[0m\u001b[0;34m(\u001b[0m\u001b[0massignmentsComplete\u001b[0m\u001b[0;34m=\u001b[0m\u001b[0mCount\u001b[0m\u001b[0;34m(\u001b[0m\u001b[0;34m'status'\u001b[0m\u001b[0;34m)\u001b[0m\u001b[0;34m)\u001b[0m\u001b[0;34m.\u001b[0m\u001b[0mfilter\u001b[0m\u001b[0;34m(\u001b[0m\u001b[0massignmentsComplete\u001b[0m\u001b[0;34m>\u001b[0m\u001b[0;36m1\u001b[0m\u001b[0;34m)\u001b[0m\u001b[0;34m:\u001b[0m\u001b[0;34m\u001b[0m\u001b[0;34m\u001b[0m\u001b[0m\n\u001b[0m\u001b[1;32m      2\u001b[0m     \u001b[0mprint\u001b[0m\u001b[0;34m(\u001b[0m\u001b[0mi\u001b[0m\u001b[0;34m)\u001b[0m\u001b[0;34m\u001b[0m\u001b[0;34m\u001b[0m\u001b[0m\n",
      "\u001b[0;31mNameError\u001b[0m: name 'assignmentsComplete' is not defined"
     ]
    }
   ],
   "source": [
    "for i in StudentSubmission.objects.filter(status=2).values('student_id').annotate(assignmentsComplete=Count('status')).filter(assignmentsComplete>1):\n",
    "    print(i)"
   ]
  },
  {
   "cell_type": "code",
   "execution_count": 31,
   "metadata": {},
   "outputs": [
    {
     "ename": "AttributeError",
     "evalue": "'QuerySet' object has no attribute 'studentsubmission_set'",
     "output_type": "error",
     "traceback": [
      "\u001b[0;31m---------------------------------------------------------------------------\u001b[0m",
      "\u001b[0;31mAttributeError\u001b[0m                            Traceback (most recent call last)",
      "\u001b[0;32m<ipython-input-31-8b90d4e5d9cb>\u001b[0m in \u001b[0;36m<module>\u001b[0;34m\u001b[0m\n\u001b[0;32m----> 1\u001b[0;31m \u001b[0mStudent\u001b[0m\u001b[0;34m.\u001b[0m\u001b[0mobjects\u001b[0m\u001b[0;34m.\u001b[0m\u001b[0mall\u001b[0m\u001b[0;34m(\u001b[0m\u001b[0;34m)\u001b[0m\u001b[0;34m.\u001b[0m\u001b[0mstudentsubmission_set\u001b[0m\u001b[0;34m.\u001b[0m\u001b[0mfilter\u001b[0m\u001b[0;34m(\u001b[0m\u001b[0mstatus\u001b[0m\u001b[0;34m=\u001b[0m\u001b[0;36m2\u001b[0m\u001b[0;34m)\u001b[0m\u001b[0;34m.\u001b[0m\u001b[0mall\u001b[0m\u001b[0;34m(\u001b[0m\u001b[0;34m)\u001b[0m\u001b[0;34m\u001b[0m\u001b[0;34m\u001b[0m\u001b[0m\n\u001b[0m",
      "\u001b[0;31mAttributeError\u001b[0m: 'QuerySet' object has no attribute 'studentsubmission_set'"
     ]
    }
   ],
   "source": [
    "Student.objects.all().studentsubmission_set.filter(status=2).all()"
   ]
  },
  {
   "cell_type": "code",
   "execution_count": 34,
   "metadata": {},
   "outputs": [
    {
     "data": {
      "text/plain": [
       "Counter({'Rockingham County High': 670,\n",
       "         'Eastern Alamance High School': 840,\n",
       "         'Orange High School': 850})"
      ]
     },
     "execution_count": 34,
     "metadata": {},
     "output_type": "execute_result"
    }
   ],
   "source": [
    "students = StudentSubmission.objects.filter(status=2).distinct()\n",
    "students = [i.student_id.school for i in students]\n",
    "Counter(students)"
   ]
  },
  {
   "cell_type": "code",
   "execution_count": 42,
   "metadata": {},
   "outputs": [
    {
     "data": {
      "text/plain": [
       "2360"
      ]
     },
     "execution_count": 42,
     "metadata": {},
     "output_type": "execute_result"
    }
   ],
   "source": [
    "active_students = StudentSubmission.objects.filter(status=2)\n",
    "len(active_students)"
   ]
  },
  {
   "cell_type": "code",
   "execution_count": 43,
   "metadata": {},
   "outputs": [
    {
     "data": {
      "text/plain": [
       "114"
      ]
     },
     "execution_count": 43,
     "metadata": {},
     "output_type": "execute_result"
    }
   ],
   "source": [
    "active_students = set([i.student_id for i in active_students])\n",
    "len(active_students)"
   ]
  },
  {
   "cell_type": "code",
   "execution_count": 45,
   "metadata": {},
   "outputs": [
    {
     "data": {
      "text/plain": [
       "['Eastern Alamance High School',\n",
       " 'Eastern Alamance High School',\n",
       " 'Orange High School',\n",
       " 'Rockingham County High',\n",
       " 'Eastern Alamance High School',\n",
       " 'Rockingham County High',\n",
       " 'Orange High School',\n",
       " 'Eastern Alamance High School',\n",
       " 'Eastern Alamance High School',\n",
       " 'Rockingham County High',\n",
       " 'Orange High School',\n",
       " 'Eastern Alamance High School',\n",
       " 'Rockingham County High',\n",
       " 'Rockingham County High',\n",
       " 'Orange High School',\n",
       " 'Eastern Alamance High School',\n",
       " 'Rockingham County High',\n",
       " 'Eastern Alamance High School',\n",
       " 'Orange High School',\n",
       " 'Rockingham County High',\n",
       " 'Eastern Alamance High School',\n",
       " 'Eastern Alamance High School',\n",
       " 'Orange High School',\n",
       " 'Eastern Alamance High School',\n",
       " 'Rockingham County High',\n",
       " 'Orange High School',\n",
       " 'Orange High School',\n",
       " 'Eastern Alamance High School',\n",
       " 'Eastern Alamance High School',\n",
       " 'Orange High School',\n",
       " 'Eastern Alamance High School',\n",
       " 'Orange High School',\n",
       " 'Rockingham County High',\n",
       " 'Orange High School',\n",
       " 'Orange High School',\n",
       " 'Rockingham County High',\n",
       " 'Eastern Alamance High School',\n",
       " 'Rockingham County High',\n",
       " 'Eastern Alamance High School',\n",
       " 'Rockingham County High',\n",
       " 'Rockingham County High',\n",
       " 'Eastern Alamance High School',\n",
       " 'Rockingham County High',\n",
       " 'Rockingham County High',\n",
       " 'Rockingham County High',\n",
       " 'Rockingham County High',\n",
       " 'Eastern Alamance High School',\n",
       " 'Eastern Alamance High School',\n",
       " 'Eastern Alamance High School',\n",
       " 'Rockingham County High',\n",
       " 'Eastern Alamance High School',\n",
       " 'Orange High School',\n",
       " 'Rockingham County High',\n",
       " 'Eastern Alamance High School',\n",
       " 'Eastern Alamance High School',\n",
       " 'Eastern Alamance High School',\n",
       " 'Rockingham County High',\n",
       " 'Rockingham County High',\n",
       " 'Orange High School',\n",
       " 'Eastern Alamance High School',\n",
       " 'Eastern Alamance High School',\n",
       " 'Rockingham County High',\n",
       " 'Orange High School',\n",
       " 'Rockingham County High',\n",
       " 'Rockingham County High',\n",
       " 'Orange High School',\n",
       " 'Eastern Alamance High School',\n",
       " 'Eastern Alamance High School',\n",
       " 'Orange High School',\n",
       " 'Eastern Alamance High School',\n",
       " 'Orange High School',\n",
       " 'Orange High School',\n",
       " 'Orange High School',\n",
       " 'Rockingham County High',\n",
       " 'Rockingham County High',\n",
       " 'Orange High School',\n",
       " 'Rockingham County High',\n",
       " 'Orange High School',\n",
       " 'Eastern Alamance High School',\n",
       " 'Orange High School',\n",
       " 'Eastern Alamance High School',\n",
       " 'Orange High School',\n",
       " 'Orange High School',\n",
       " 'Eastern Alamance High School',\n",
       " 'Orange High School',\n",
       " 'Orange High School',\n",
       " 'Eastern Alamance High School',\n",
       " 'Eastern Alamance High School',\n",
       " 'Orange High School',\n",
       " 'Eastern Alamance High School',\n",
       " 'Orange High School',\n",
       " 'Orange High School',\n",
       " 'Orange High School',\n",
       " 'Eastern Alamance High School',\n",
       " 'Rockingham County High',\n",
       " 'Orange High School',\n",
       " 'Eastern Alamance High School',\n",
       " 'Rockingham County High',\n",
       " 'Eastern Alamance High School',\n",
       " 'Rockingham County High',\n",
       " 'Rockingham County High',\n",
       " 'Orange High School',\n",
       " 'Rockingham County High',\n",
       " 'Eastern Alamance High School',\n",
       " 'Orange High School',\n",
       " 'Eastern Alamance High School',\n",
       " 'Eastern Alamance High School',\n",
       " 'Rockingham County High',\n",
       " 'Orange High School',\n",
       " 'Rockingham County High',\n",
       " 'Orange High School',\n",
       " 'Orange High School',\n",
       " 'Eastern Alamance High School',\n",
       " 'Orange High School']"
      ]
     },
     "execution_count": 45,
     "metadata": {},
     "output_type": "execute_result"
    }
   ],
   "source": [
    "[i.school for i in active_students]"
   ]
  },
  {
   "cell_type": "code",
   "execution_count": 141,
   "metadata": {},
   "outputs": [],
   "source": [
    "test = Student.objects.values('school').annotate(numStudents=Count('school'))"
   ]
  },
  {
   "cell_type": "code",
   "execution_count": 142,
   "metadata": {},
   "outputs": [
    {
     "data": {
      "text/plain": [
       "{'Eastern Alamance High School': 44,\n",
       " 'Orange High School': 38,\n",
       " 'Rockingham County High': 34}"
      ]
     },
     "execution_count": 142,
     "metadata": {},
     "output_type": "execute_result"
    }
   ],
   "source": [
    "{i['school']: i['numStudents'] for i in test}"
   ]
  },
  {
   "cell_type": "code",
   "execution_count": 52,
   "metadata": {},
   "outputs": [
    {
     "data": {
      "text/plain": [
       "{'school': 'Eastern Alamance High School', 'numStudents': 44}"
      ]
     },
     "execution_count": 52,
     "metadata": {},
     "output_type": "execute_result"
    }
   ],
   "source": [
    "Student.objects.values('school').annotate(numStudents=Count('school'))[0]"
   ]
  },
  {
   "cell_type": "code",
   "execution_count": 55,
   "metadata": {},
   "outputs": [],
   "source": [
    "total = {i['school']: i['numStudents'] for i in test}"
   ]
  },
  {
   "cell_type": "code",
   "execution_count": 65,
   "metadata": {},
   "outputs": [
    {
     "data": {
      "text/plain": [
       "2360"
      ]
     },
     "execution_count": 65,
     "metadata": {},
     "output_type": "execute_result"
    }
   ],
   "source": [
    "len(StudentSubmission.objects.filter(status=2).only('student_id'))"
   ]
  },
  {
   "cell_type": "code",
   "execution_count": 107,
   "metadata": {},
   "outputs": [
    {
     "data": {
      "text/plain": [
       "<QuerySet [{'student_id': 1, 'numCompleted': 22}, {'student_id': 2, 'numCompleted': 17}, {'student_id': 3, 'numCompleted': 18}, {'student_id': 4, 'numCompleted': 34}, {'student_id': 5, 'numCompleted': 19}, {'student_id': 6, 'numCompleted': 23}, {'student_id': 7, 'numCompleted': 25}, {'student_id': 8, 'numCompleted': 17}, {'student_id': 9, 'numCompleted': 20}, {'student_id': 10, 'numCompleted': 21}, {'student_id': 11, 'numCompleted': 19}, {'student_id': 12, 'numCompleted': 18}, {'student_id': 13, 'numCompleted': 23}, {'student_id': 14, 'numCompleted': 11}, {'student_id': 15, 'numCompleted': 32}, {'student_id': 16, 'numCompleted': 27}, {'student_id': 17, 'numCompleted': 19}, {'student_id': 18, 'numCompleted': 22}, {'student_id': 19, 'numCompleted': 21}, {'student_id': 20, 'numCompleted': 17}, '...(remaining elements truncated)...']>"
      ]
     },
     "execution_count": 107,
     "metadata": {},
     "output_type": "execute_result"
    }
   ],
   "source": [
    "StudentSubmission.objects.filter(status=2).values('student_id').annotate(numCompleted=Count('status')).filter(numCompleted__gt=1)"
   ]
  },
  {
   "cell_type": "code",
   "execution_count": 120,
   "metadata": {},
   "outputs": [
    {
     "ename": "AttributeError",
     "evalue": "'StudentSubmission' object has no attribute 'studentsubmission__set'",
     "output_type": "error",
     "traceback": [
      "\u001b[0;31m---------------------------------------------------------------------------\u001b[0m",
      "\u001b[0;31mAttributeError\u001b[0m                            Traceback (most recent call last)",
      "\u001b[0;32m<ipython-input-120-1b288261b006>\u001b[0m in \u001b[0;36m<module>\u001b[0;34m\u001b[0m\n\u001b[0;32m----> 1\u001b[0;31m \u001b[0mStudentSubmission\u001b[0m\u001b[0;34m.\u001b[0m\u001b[0mobjects\u001b[0m\u001b[0;34m.\u001b[0m\u001b[0monly\u001b[0m\u001b[0;34m(\u001b[0m\u001b[0;34m'student_id'\u001b[0m\u001b[0;34m)\u001b[0m\u001b[0;34m[\u001b[0m\u001b[0;36m0\u001b[0m\u001b[0;34m]\u001b[0m\u001b[0;34m.\u001b[0m\u001b[0mstudentsubmission__set\u001b[0m\u001b[0;34m\u001b[0m\u001b[0;34m\u001b[0m\u001b[0m\n\u001b[0m",
      "\u001b[0;31mAttributeError\u001b[0m: 'StudentSubmission' object has no attribute 'studentsubmission__set'"
     ]
    }
   ],
   "source": [
    "StudentSubmission.objects.only('student_id')[0].studentsubmission__set"
   ]
  },
  {
   "cell_type": "code",
   "execution_count": 114,
   "metadata": {},
   "outputs": [
    {
     "ename": "NameError",
     "evalue": "name 'student__school' is not defined",
     "output_type": "error",
     "traceback": [
      "\u001b[0;31m---------------------------------------------------------------------------\u001b[0m",
      "\u001b[0;31mNameError\u001b[0m                                 Traceback (most recent call last)",
      "\u001b[0;32m<ipython-input-114-b7bb80b31250>\u001b[0m in \u001b[0;36m<module>\u001b[0;34m\u001b[0m\n\u001b[0;32m----> 1\u001b[0;31m \u001b[0mStudentSubmission\u001b[0m\u001b[0;34m.\u001b[0m\u001b[0mobjects\u001b[0m\u001b[0;34m.\u001b[0m\u001b[0mfilter\u001b[0m\u001b[0;34m(\u001b[0m\u001b[0mstatus\u001b[0m\u001b[0;34m=\u001b[0m\u001b[0;36m2\u001b[0m\u001b[0;34m)\u001b[0m\u001b[0;34m.\u001b[0m\u001b[0mvalues\u001b[0m\u001b[0;34m(\u001b[0m\u001b[0;34m'student_id'\u001b[0m\u001b[0;34m)\u001b[0m\u001b[0;34m.\u001b[0m\u001b[0mannotate\u001b[0m\u001b[0;34m(\u001b[0m\u001b[0mnumCompleted\u001b[0m\u001b[0;34m=\u001b[0m\u001b[0mCount\u001b[0m\u001b[0;34m(\u001b[0m\u001b[0;34m'status'\u001b[0m\u001b[0;34m)\u001b[0m\u001b[0;34m,\u001b[0m\u001b[0mschool\u001b[0m\u001b[0;34m=\u001b[0m\u001b[0mstudent__school\u001b[0m\u001b[0;34m)\u001b[0m\u001b[0;34m.\u001b[0m\u001b[0mfilter\u001b[0m\u001b[0;34m(\u001b[0m\u001b[0mnumCompleted__gt\u001b[0m\u001b[0;34m=\u001b[0m\u001b[0;36m1\u001b[0m\u001b[0;34m)\u001b[0m\u001b[0;34m\u001b[0m\u001b[0;34m\u001b[0m\u001b[0m\n\u001b[0m",
      "\u001b[0;31mNameError\u001b[0m: name 'student__school' is not defined"
     ]
    }
   ],
   "source": [
    "StudentSubmission.objects.filter(status=2).values('student_id').annotate(numCompleted=Count('status'),school=student__school).filter(numCompleted__gt=1)"
   ]
  },
  {
   "cell_type": "code",
   "execution_count": 137,
   "metadata": {},
   "outputs": [],
   "source": [
    "studentOverThreshold = StudentSubmission.objects.filter(status=2).values('student_id').annotate(numCompleted=Count('status')).filter(numCompleted__gt=1).values('student_id')"
   ]
  },
  {
   "cell_type": "code",
   "execution_count": 138,
   "metadata": {},
   "outputs": [
    {
     "data": {
      "text/plain": [
       "<QuerySet [{'school': 'Eastern Alamance High School', 'numStudents': 42}, {'school': 'Orange High School', 'numStudents': 38}, {'school': 'Rockingham County High', 'numStudents': 34}]>"
      ]
     },
     "execution_count": 138,
     "metadata": {},
     "output_type": "execute_result"
    }
   ],
   "source": [
    "Student.objects.filter(student_id__in=studentOverThreshold).values('school').annotate(numStudents=Count('school'))"
   ]
  },
  {
   "cell_type": "code",
   "execution_count": 146,
   "metadata": {},
   "outputs": [
    {
     "data": {
      "text/plain": [
       "116"
      ]
     },
     "execution_count": 146,
     "metadata": {},
     "output_type": "execute_result"
    }
   ],
   "source": [
    "len(Student.objects.all())"
   ]
  },
  {
   "cell_type": "code",
   "execution_count": null,
   "metadata": {},
   "outputs": [],
   "source": []
  }
 ],
 "metadata": {
  "kernelspec": {
   "display_name": "Django Shell-Plus",
   "language": "python",
   "name": "django_extensions"
  },
  "language_info": {
   "codemirror_mode": {
    "name": "ipython",
    "version": 3
   },
   "file_extension": ".py",
   "mimetype": "text/x-python",
   "name": "python",
   "nbconvert_exporter": "python",
   "pygments_lexer": "ipython3",
   "version": "3.8.3"
  }
 },
 "nbformat": 4,
 "nbformat_minor": 4
}
